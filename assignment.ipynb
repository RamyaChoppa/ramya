{
 "cells": [
  {
   "cell_type": "code",
   "execution_count": 45,
   "metadata": {},
   "outputs": [
    {
     "name": "stdout",
     "output_type": "stream",
     "text": [
      "substr\n",
      "1\n"
     ]
    }
   ],
   "source": [
    "n=\"substr\"\n",
    "print(n)\n",
    "print(n.count(\"sub\"))\n",
    "       \n"
   ]
  },
  {
   "cell_type": "code",
   "execution_count": 48,
   "metadata": {},
   "outputs": [
    {
     "ename": "SyntaxError",
     "evalue": "unexpected EOF while parsing (<ipython-input-48-5653ab6df866>, line 3)",
     "output_type": "error",
     "traceback": [
      "\u001b[1;36m  File \u001b[1;32m\"<ipython-input-48-5653ab6df866>\"\u001b[1;36m, line \u001b[1;32m3\u001b[0m\n\u001b[1;33m    print(n.find(\"c\")\u001b[0m\n\u001b[1;37m                     ^\u001b[0m\n\u001b[1;31mSyntaxError\u001b[0m\u001b[1;31m:\u001b[0m unexpected EOF while parsing\n"
     ]
    }
   ],
   "source": [
    "n=\"abccddccc\"\n",
    "print(n)\n",
    "print(n.find(\"c\")\n"
   ]
  },
  {
   "cell_type": "code",
   "execution_count": 42,
   "metadata": {},
   "outputs": [
    {
     "name": "stdout",
     "output_type": "stream",
     "text": [
      "{'genre': ('games', 'productivity', 'social networking', 'health care'), 'App count%': ('...', '...', '...')}\n",
      "<class 'dict'>\n"
     ]
    }
   ],
   "source": [
    "n={\"genre\":(\"games\",\"productivity\",\"social networking\",\"health care\"),\"App count%\":(\"...\",\"...\",\"...\")}\n",
    "print(n)\n",
    "print(type(n))\n",
    "\n"
   ]
  },
  {
   "cell_type": "code",
   "execution_count": 49,
   "metadata": {},
   "outputs": [
    {
     "ename": "SyntaxError",
     "evalue": "invalid syntax (<ipython-input-49-ec357b134a8f>, line 6)",
     "output_type": "error",
     "traceback": [
      "\u001b[1;36m  File \u001b[1;32m\"<ipython-input-49-ec357b134a8f>\"\u001b[1;36m, line \u001b[1;32m6\u001b[0m\n\u001b[1;33m    [10,11,12]])\u001b[0m\n\u001b[1;37m               ^\u001b[0m\n\u001b[1;31mSyntaxError\u001b[0m\u001b[1;31m:\u001b[0m invalid syntax\n"
     ]
    }
   ],
   "source": [
    "x = np.matrix(np.arange(12).reshape((4, 3)))\n",
    "print(x)\n",
    "matrix([[ 1,  2,  3],\n",
    "        [ 4,  5,  6,\n",
    "        [ 7,  8,  9],\n",
    "        [10,11,12]])\n",
    "n=x.mean()\n",
    "print(n)\n",
    "\n",
    "\n",
    "\n"
   ]
  },
  {
   "cell_type": "code",
   "execution_count": 56,
   "metadata": {},
   "outputs": [
    {
     "name": "stdout",
     "output_type": "stream",
     "text": [
      "arr :  ([1, 2, 3], [4, 5, 6], [7, 8, 9], [10, 11, 12])\n",
      "mean of arr :  6.5\n"
     ]
    }
   ],
   "source": [
    "import numpy as np \n",
    "    \n",
    "arr = ([1,2,3],\n",
    "       [4,5,6],\n",
    "       [7,8,9],\n",
    "       [10,11,12])\n",
    "  \n",
    "print(\"arr : \", arr)  \n",
    "print(\"mean of arr : \", np.mean(arr)) \n",
    "   "
   ]
  },
  {
   "cell_type": "code",
   "execution_count": 52,
   "metadata": {},
   "outputs": [
    {
     "name": "stdout",
     "output_type": "stream",
     "text": [
      "The count is: 6\n"
     ]
    }
   ],
   "source": [
    "string = \"1234567433332345\"\n",
    "substring = \"3\"\n",
    "\n",
    "count = string.count(substring)\n",
    "\n",
    "print(\"The count is:\", count)"
   ]
  },
  {
   "cell_type": "code",
   "execution_count": 53,
   "metadata": {},
   "outputs": [
    {
     "name": "stdout",
     "output_type": "stream",
     "text": [
      "The count is: 4\n"
     ]
    }
   ],
   "source": [
    "string = \"aaaaaaaaaaaaaa\"\n",
    "substring = \"aaa\"\n",
    "\n",
    "count = string.count(substring)\n",
    "\n",
    "print(\"The count is:\", count)"
   ]
  },
  {
   "cell_type": "code",
   "execution_count": null,
   "metadata": {},
   "outputs": [],
   "source": [
    "import numpy as np\n",
    "import pandas as pd\n",
    "data=pd.series(\"id\":idno,\"track_name\":name,\"size_bytes\":bytes,\"currency\":money,\"rice\":rice,\"rating_count_tot\":count,\n",
    "               \"rating_count_ver\":ver,\"user_rating\":rating)"
   ]
  }
 ],
 "metadata": {
  "kernelspec": {
   "display_name": "Python 3",
   "language": "python",
   "name": "python3"
  },
  "language_info": {
   "codemirror_mode": {
    "name": "ipython",
    "version": 3
   },
   "file_extension": ".py",
   "mimetype": "text/x-python",
   "name": "python",
   "nbconvert_exporter": "python",
   "pygments_lexer": "ipython3",
   "version": "3.7.3"
  }
 },
 "nbformat": 4,
 "nbformat_minor": 2
}
